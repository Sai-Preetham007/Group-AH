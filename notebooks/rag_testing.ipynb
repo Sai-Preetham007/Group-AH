{
  "cells": [
    {
      "cell_type": "markdown",
      "metadata": {},
      "source": [
        "# RAG System Testing Notebook\n",
        "\n",
        "This notebook demonstrates how to test the RAG system with various medical queries.\n"
      ]
    }
  ],
  "metadata": {
    "language_info": {
      "name": "python"
    }
  },
  "nbformat": 4,
  "nbformat_minor": 2
}
