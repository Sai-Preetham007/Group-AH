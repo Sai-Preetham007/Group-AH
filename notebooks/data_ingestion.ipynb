{
  "cells": [
    {
      "cell_type": "markdown",
      "metadata": {},
      "source": [
        "# Medical Data Ingestion Notebook\n",
        "\n",
        "This notebook demonstrates how to load and preprocess medical data from various sources for the RAG system.\n"
      ]
    },
    {
      "cell_type": "code",
      "execution_count": null,
      "metadata": {},
      "outputs": [],
      "source": [
        "import sys\n",
        "sys.path.append('../')\n",
        "\n",
        "from src.data_processing.medical_data_loader import MedicalDataLoader\n",
        "from src.rag.vector_store import MedicalVectorStore\n",
        "import json\n",
        "from pathlib import Path\n"
      ]
    }
  ],
  "metadata": {
    "language_info": {
      "name": "python"
    }
  },
  "nbformat": 4,
  "nbformat_minor": 2
}
