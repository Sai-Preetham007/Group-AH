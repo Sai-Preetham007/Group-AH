{
  "cells": [
    {
      "cell_type": "markdown",
      "metadata": {},
      "source": [
        "# Medical Model Training Notebook\n",
        "\n",
        "This notebook demonstrates how to train medical language models using the Kaggle disease dataset.\n"
      ]
    }
  ],
  "metadata": {
    "language_info": {
      "name": "python"
    }
  },
  "nbformat": 4,
  "nbformat_minor": 2
}
